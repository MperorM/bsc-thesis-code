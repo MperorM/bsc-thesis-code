{
 "metadata": {
  "language_info": {
   "codemirror_mode": {
    "name": "ipython",
    "version": 3
   },
   "file_extension": ".py",
   "mimetype": "text/x-python",
   "name": "python",
   "nbconvert_exporter": "python",
   "pygments_lexer": "ipython3",
   "version": 3
  },
  "orig_nbformat": 2
 },
 "nbformat": 4,
 "nbformat_minor": 2,
 "cells": [
  {
   "cell_type": "code",
   "execution_count": null,
   "metadata": {},
   "outputs": [],
   "source": [
    "for timestep in range(1, 101):\n",
    "    X = []\n",
    "    for replay in x_val:\n",
    "        X.append(replay[-timestep-101:-timestep, :])\n",
    "\n",
    "    X = np.array(X)\n",
    "    for model, model_name in models:\n",
    "        print(model_name)\n",
    "        val_acc[model_name].append(1 - model.evaluate(X, y_val, batch_size=1))\n",
    "    #val_acc[\"lstm_dropout\"].append(1 - lstm_model_dropout.evaluate(X, y_val, batch_size=1))\n",
    "    #print(no_dropout_model.evaluate(X, y_val, batch_size=1))"
   ]
  }
 ]
}